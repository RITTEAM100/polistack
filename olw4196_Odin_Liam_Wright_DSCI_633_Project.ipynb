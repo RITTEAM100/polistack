{
  "cells": [
    {
      "cell_type": "markdown",
      "metadata": {
        "id": "view-in-github",
        "colab_type": "text"
      },
      "source": [
        "<a href=\"https://colab.research.google.com/github/RITTEAM100/polistack/blob/main/olw4196_Odin_Liam_Wright_DSCI_633_Project.ipynb\" target=\"_parent\"><img src=\"https://colab.research.google.com/assets/colab-badge.svg\" alt=\"Open In Colab\"/></a>"
      ]
    },
    {
      "cell_type": "markdown",
      "metadata": {
        "id": "wgmrTGySSrNI"
      },
      "source": [
        "## 1. Data Exploration and Visualization"
      ]
    },
    {
      "cell_type": "code",
      "execution_count": 53,
      "metadata": {
        "id": "NQDYOTmnkhoC"
      },
      "outputs": [],
      "source": [
        "# IMPORTING GENERAL LIBRARIES\n",
        "import numpy as np\n",
        "import matplotlib.pyplot as plt\n",
        "import seaborn as sns\n",
        "import pandas as pd\n",
        "import math\n",
        "import json"
      ]
    },
    {
      "cell_type": "code",
      "execution_count": 54,
      "metadata": {
        "id": "8D4tG4_TUp_v"
      },
      "outputs": [],
      "source": [
        "# TASK 1.1a - LOAD DATASET\n",
        "from sklearn.datasets import fetch_lfw_people\n",
        "people = fetch_lfw_people(min_faces_per_person=60, resize=0.4)"
      ]
    },
    {
      "cell_type": "code",
      "execution_count": 55,
      "metadata": {
        "id": "HWHeLU-yRcvi"
      },
      "outputs": [],
      "source": [
        "# TASK 1.1b - PROBLEM STATEMENT\n",
        "## Build a Model to Identify Faces"
      ]
    },
    {
      "cell_type": "code",
      "execution_count": 56,
      "metadata": {
        "id": "fJtQVMpnUwIx"
      },
      "outputs": [],
      "source": [
        "# TASK 1.2 - SPLIT DATA\n",
        "from sklearn.model_selection import train_test_split\n",
        "from sklearn.preprocessing import StandardScaler\n",
        "\n",
        "X = people.data\n",
        "y = people.target\n",
        "\n",
        "X_train, X_test, y_train, y_test = train_test_split(X, y, test_size=0.2, random_state=42)"
      ]
    },
    {
      "cell_type": "code",
      "execution_count": 57,
      "metadata": {
        "colab": {
          "base_uri": "https://localhost:8080/"
        },
        "id": "uBOrb2vWVBK4",
        "outputId": "fdb6e8f2-2230-4ad7-acb8-21f44089f3d8"
      },
      "outputs": [
        {
          "output_type": "stream",
          "name": "stdout",
          "text": [
            "n_samples: 1348\n",
            "\n",
            "n_features: 1850\n",
            "\n",
            "n_classes: 8, target_names: ['Ariel Sharon' 'Colin Powell' 'Donald Rumsfeld' 'George W Bush'\n",
            " 'Gerhard Schroeder' 'Hugo Chavez' 'Junichiro Koizumi' 'Tony Blair']\n",
            "\n",
            "# TASK 1.3 - DATA DISTRIBUTION: [ 77 236 121 530 109  71  60 144]\n",
            "          0         1         2         3         4         5         6  \\\n",
            "0  0.538562  0.517647  0.473203  0.450980  0.465359  0.504575  0.533333   \n",
            "1  0.260131  0.218301  0.339869  0.366013  0.287582  0.464052  0.490196   \n",
            "2  0.346405  0.358170  0.207843  0.356863  0.470588  0.492810  0.500654   \n",
            "3  0.260131  0.386928  0.526797  0.543791  0.552941  0.566013  0.615686   \n",
            "4  0.224837  0.205229  0.177778  0.194771  0.168627  0.184314  0.244444   \n",
            "\n",
            "          7         8         9  ...      1841      1842      1843      1844  \\\n",
            "0  0.555556  0.581699  0.593464  ...  0.550327  0.458824  0.043137  0.009150   \n",
            "1  0.499346  0.534641  0.566013  ...  0.624837  0.937255  0.985621  0.994771   \n",
            "2  0.521569  0.521569  0.586928  ...  0.320261  0.322876  0.363399  0.435294   \n",
            "3  0.677124  0.686275  0.703268  ...  0.369935  0.345098  0.427451  0.785621   \n",
            "4  0.215686  0.216993  0.236601  ...  0.158170  0.162092  0.154248  0.139869   \n",
            "\n",
            "       1845      1846      1847      1848      1849  target  \n",
            "0  0.007843  0.001307  0.006536  0.006536  0.002614       1  \n",
            "1  0.992157  0.996078  0.980392  0.959477  0.938562       3  \n",
            "2  0.475817  0.461438  0.369935  0.597386  0.937255       3  \n",
            "3  0.929412  0.896732  0.904575  0.892811  0.826144       3  \n",
            "4  0.134641  0.137255  0.132026  0.138562  0.133333       5  \n",
            "\n",
            "[5 rows x 1851 columns]\n"
          ]
        }
      ],
      "source": [
        "# TASK 1.3 - CONDUCT EDA (EXPLORATORY DATA ANALYSIS)\n",
        "## i.e. data distribution, handling missing values, feature correlations.\n",
        "target_names = people.target_names\n",
        "n_samples, h, w = people.images.shape\n",
        "n_features = X.shape[1]\n",
        "n_classes = target_names.shape[0]\n",
        "\n",
        "print(f\"n_samples: {n_samples}\")\n",
        "print(f\"\\nn_features: {n_features}\")\n",
        "print(f\"\\nn_classes: {n_classes}, target_names: {target_names}\")\n",
        "\n",
        "# TASK 1.3 - DATA DISTRIBUTION\n",
        "n_samples_per_class = np.bincount(y)\n",
        "print(f\"\\n# TASK 1.3 - DATA DISTRIBUTION: {n_samples_per_class}\")\n",
        "\n",
        "# add people to dataframe\n",
        "df = pd.DataFrame(people.data)\n",
        "df['target'] = people.target\n",
        "print(df.head())"
      ]
    },
    {
      "cell_type": "code",
      "execution_count": 58,
      "metadata": {
        "colab": {
          "base_uri": "https://localhost:8080/"
        },
        "id": "d-Iiw4qzvB1G",
        "outputId": "8d0d885e-3b99-4d9c-8993-fbb6d39f7c18"
      },
      "outputs": [
        {
          "output_type": "stream",
          "name": "stdout",
          "text": [
            "                 0            1            2            3            4  \\\n",
            "count  1348.000000  1348.000000  1348.000000  1348.000000  1348.000000   \n",
            "mean      0.351843     0.369211     0.406064     0.455904     0.501138   \n",
            "std       0.178701     0.174408     0.170548     0.166679     0.160696   \n",
            "min       0.000000     0.001307     0.001307     0.003922     0.005229   \n",
            "25%       0.223203     0.245752     0.287255     0.351634     0.402288   \n",
            "50%       0.334641     0.362092     0.405229     0.454902     0.504575   \n",
            "75%       0.469608     0.479739     0.517647     0.567320     0.605556   \n",
            "max       0.997386     0.996078     0.992157     0.968627     0.959477   \n",
            "\n",
            "                 5            6            7            8            9  ...  \\\n",
            "count  1348.000000  1348.000000  1348.000000  1348.000000  1348.000000  ...   \n",
            "mean      0.536997     0.563213     0.583074     0.601118     0.617635  ...   \n",
            "std       0.149099     0.142618     0.139211     0.135736     0.131728  ...   \n",
            "min       0.009150     0.009150     0.036601     0.039216     0.047059  ...   \n",
            "25%       0.443137     0.474183     0.496405     0.521242     0.535948  ...   \n",
            "50%       0.538562     0.566013     0.588889     0.606536     0.624837  ...   \n",
            "75%       0.636601     0.654902     0.675817     0.692810     0.704575  ...   \n",
            "max       0.968627     0.971242     0.989542     0.996078     0.993464  ...   \n",
            "\n",
            "              1841         1842         1843         1844         1845  \\\n",
            "count  1348.000000  1348.000000  1348.000000  1348.000000  1348.000000   \n",
            "mean      0.392447     0.417541     0.451488     0.483712     0.498260   \n",
            "std       0.201378     0.226719     0.248518     0.271952     0.283878   \n",
            "min       0.007843     0.001307     0.003922     0.003922     0.002614   \n",
            "25%       0.247059     0.248366     0.261111     0.264052     0.253595   \n",
            "50%       0.373856     0.392810     0.426144     0.452288     0.477778   \n",
            "75%       0.499673     0.554248     0.622549     0.697712     0.739869   \n",
            "max       0.993464     0.990850     0.998693     1.000000     1.000000   \n",
            "\n",
            "              1846         1847         1848         1849       target  \n",
            "count  1348.000000  1348.000000  1348.000000  1348.000000  1348.000000  \n",
            "mean      0.488605     0.467965     0.440316     0.409364     3.135757  \n",
            "std       0.294181     0.302469     0.301640     0.304014     1.920884  \n",
            "min       0.000000     0.000000     0.000000     0.000000     0.000000  \n",
            "25%       0.223203     0.181699     0.160784     0.135948     2.000000  \n",
            "50%       0.469935     0.445752     0.399346     0.336601     3.000000  \n",
            "75%       0.746405     0.742484     0.702288     0.674837     4.000000  \n",
            "max       1.000000     1.000000     1.000000     1.000000     7.000000  \n",
            "\n",
            "[8 rows x 1851 columns]\n"
          ]
        }
      ],
      "source": [
        "# all features are 0 - .9 and don't need scaling\n",
        "print(df.describe())"
      ]
    },
    {
      "cell_type": "code",
      "execution_count": 59,
      "metadata": {
        "id": "l5tr9f69Vp3M"
      },
      "outputs": [],
      "source": [
        "# TASK 1.4 - PERFORM DATA PREPROCESSING IF NECESSARY\n",
        "## i.e. handling missing values and encoding categorical features if necessary\n",
        "## no missing values\n",
        "## no encoding required"
      ]
    },
    {
      "cell_type": "markdown",
      "metadata": {
        "id": "WirfQgBuWIk9"
      },
      "source": [
        "## 2. Feature Engineering and Visualization"
      ]
    },
    {
      "cell_type": "code",
      "execution_count": 60,
      "metadata": {
        "colab": {
          "base_uri": "https://localhost:8080/",
          "height": 462
        },
        "id": "JSP-C7PHeCDs",
        "outputId": "6d794d81-8357-48b4-e5ae-ff5c628e19e2"
      },
      "outputs": [
        {
          "output_type": "stream",
          "name": "stdout",
          "text": [
            "class distributions suggest a bias towards identifying 'George W Bush'\n"
          ]
        },
        {
          "output_type": "display_data",
          "data": {
            "text/plain": [
              "<Figure size 2200x500 with 1 Axes>"
            ],
            "image/png": "[encoded data removed]"
          },
          "metadata": {}
        }
      ],
      "source": [
        "# TASK 2.1 - GENERATE INFORMATIVE VISUALIZATIONS\n",
        "print(\"class distributions suggest a bias towards identifying 'George W Bush'\")\n",
        "plt.figure(figsize=(22,5))\n",
        "plt.bar(range(n_classes), n_samples_per_class)\n",
        "plt.xticks(range(n_classes), target_names)\n",
        "plt.show()"
      ]
    },
    {
      "cell_type": "code",
      "execution_count": 61,
      "metadata": {
        "id": "Nc4D7oQfegsK"
      },
      "outputs": [],
      "source": [
        "# TASK 2.2 - PERFORM FEATURE ENGINEERING {Transformation, scaling, normalization, or other...}\n",
        "## performing standard scaler on features.\n",
        "scaler = StandardScaler()\n",
        "X_train_scaled = scaler.fit_transform(X_train)\n",
        "X_test_scaled = scaler.transform(X_test)"
      ]
    },
    {
      "cell_type": "markdown",
      "metadata": {
        "id": "rNKFt2P9frar"
      },
      "source": [
        "## 3. Model Building and Regularization"
      ]
    },
    {
      "cell_type": "code",
      "execution_count": 62,
      "metadata": {
        "colab": {
          "base_uri": "https://localhost:8080/"
        },
        "id": "AP3RMrfXf0Ft",
        "outputId": "e14c541f-f688-405f-cd22-8516bc44f36a"
      },
      "outputs": [
        {
          "output_type": "stream",
          "name": "stdout",
          "text": [
            "Optimized Model Coefficients:\n",
            " [[ 0.42140213  0.28616834  0.23245733 ...  0.07895482  0.17299392\n",
            "   0.17822136]\n",
            " [ 0.2957213   0.05361826  0.04994168 ... -0.08605285 -0.07396318\n",
            "  -0.01928959]\n",
            " [-0.04649094 -0.28753763 -0.34263438 ... -0.04592599 -0.05849761\n",
            "  -0.25624957]\n",
            " ...\n",
            " [-0.0948294  -0.06272491  0.06867528 ...  0.0446162  -0.12161383\n",
            "  -0.04156498]\n",
            " [ 0.0709983  -0.01369708 -0.0179791  ... -0.00975999 -0.01627251\n",
            "   0.05766431]\n",
            " [-0.24191159 -0.17581128 -0.37924604 ...  0.23302302  0.07596794\n",
            "   0.09491181]]\n"
          ]
        }
      ],
      "source": [
        "# TASK 3.A - IMPLEMENT GRADIENT DESCENT FOR OPTIMIZATION\n",
        "from sklearn.linear_model import SGDClassifier\n",
        "clf = SGDClassifier(loss='log_loss', learning_rate='constant', eta0=0.01, max_iter=1000)\n",
        "clf.fit(X_train_scaled, y_train)\n",
        "print(f\"Optimized Model Coefficients:\\n {clf.coef_}\")"
      ]
    },
    {
      "cell_type": "code",
      "execution_count": 63,
      "metadata": {
        "id": "z6VngRcEnGfH"
      },
      "outputs": [],
      "source": [
        "from sklearn.model_selection import StratifiedKFold, cross_val_predict, cross_val_score\n",
        "from sklearn.metrics import classification_report, accuracy_score, precision_score, recall_score, f1_score, roc_curve, roc_auc_score, confusion_matrix\n",
        "import time\n",
        "\n",
        "# RECORDING MODEL PERFORMANCE\n",
        "model_performance = {}\n",
        "def calculate_metrics(model_name, clf, use_pca, use_kfold):\n",
        "    start_time = time.time() # start time\n",
        "    print(f\"Started \\\"{model_name}\\\" model...\", end='')\n",
        "\n",
        "    # CHECK IF MODEL IS USING PCA\n",
        "    if use_pca == True:\n",
        "      clf.fit(X_train_pca, y_train)\n",
        "      y_pred = clf.predict(X_test_pca)\n",
        "    else:\n",
        "      clf.fit(X_train_scaled, y_train)\n",
        "      y_pred = clf.predict(X_test)\n",
        "\n",
        "    avg = 'macro'\n",
        "\n",
        "    cm = confusion_matrix(y_test, y_pred) #.flatten().tolist()\n",
        "    accuracy = accuracy_score(y_test, y_pred)\n",
        "    precision = precision_score(y_test, y_pred, average=avg, zero_division=0)\n",
        "    recall = recall_score(y_test, y_pred, average=avg)\n",
        "    f1 = f1_score(y_test, y_pred, average=avg)\n",
        "\n",
        "    # TEST WITH K-FOLDS\n",
        "    if use_kfold == True:\n",
        "      accuracy_kfold = cross_val_score(clf, X, y, cv=5, scoring='accuracy')\n",
        "    else:\n",
        "      accuracy_kfold = 0\n",
        "    #precision_kfold = cross_val_score(clf, X, y, cv=5, scoring='precision')\n",
        "    #recall_kfold = cross_val_score(clf, X, y, cv=5, scoring='recall', average=avg)\n",
        "    #f1_kfold = cross_val_score(clf, X, y, cv=5, scoring='f1', average=avg)\n",
        "\n",
        "    end_time = time.time()  # End time\n",
        "    elapsed_time = round(end_time - start_time,3)  # Time taken to train and predict\n",
        "\n",
        "    if use_kfold == True:\n",
        "      akfm = round(accuracy_kfold.mean(), 3)\n",
        "      accuracy_kfold_performance_ratio = akfm / elapsed_time\n",
        "      accuracy_confidence = round(1.96 * math.sqrt((akfm * (1 - akfm)) / n_samples),4)\n",
        "\n",
        "    else:\n",
        "      accuracy_confidence = round(1.96 * math.sqrt((accuracy * (1 - accuracy)) / n_samples),4)\n",
        "      performance_ratio = accuracy / elapsed_time\n",
        "\n",
        "    if use_kfold == True:\n",
        "      model_performance[model_name] = {\n",
        "            'accuracy': round(accuracy,3),\n",
        "            'accuracy_kfold': round(accuracy_kfold.mean(), 3),\n",
        "            'precision': round(precision, 3),\n",
        "            'recall': round(recall,3),\n",
        "            'f1': round(f1,3),\n",
        "            'cm': cm,\n",
        "            'elapsed_time': elapsed_time,\n",
        "            'performance_ratio': round(accuracy_kfold_performance_ratio, 3),\n",
        "            'accuracy_confidence': accuracy_confidence\n",
        "        }\n",
        "      print(f\" DONE... {elapsed_time} seconds. Accuracy: {round(accuracy, 3)}, Accuracy_K-Fold: {accuracy_kfold}\")\n",
        "\n",
        "    else:\n",
        "      model_performance[model_name] = {\n",
        "            'accuracy': round(accuracy,3),\n",
        "            'accuracy_kfold': 0,\n",
        "            'precision': round(precision, 3),\n",
        "            'recall': round(recall,3),\n",
        "            'f1': round(f1,3),\n",
        "            'cm': cm,\n",
        "            'elapsed_time': elapsed_time,\n",
        "            'performance_ratio': round(performance_ratio,3),\n",
        "            'accuracy_confidence': accuracy_confidence\n",
        "        }\n",
        "      print(f\" DONE... {elapsed_time} seconds. Accuracy: {round(accuracy, 3)}\")\n"
      ]
    },
    {
      "cell_type": "code",
      "execution_count": 64,
      "metadata": {
        "colab": {
          "base_uri": "https://localhost:8080/"
        },
        "id": "QmfdfowUf8za",
        "outputId": "8dd7b0a9-ac62-40f2-920f-4c8701ea4ceb"
      },
      "outputs": [
        {
          "output_type": "stream",
          "name": "stdout",
          "text": [
            "Started \"Logistic Regression\" model... DONE... 33.253 seconds. Accuracy: 0.481, Accuracy_K-Fold: [0.83703704 0.81851852 0.85185185 0.83271375 0.83643123]\n",
            "Started \"SVM\" model... DONE... 9.154 seconds. Accuracy: 0.47, Accuracy_K-Fold: [0.75185185 0.70740741 0.71111111 0.73977695 0.79925651]\n",
            "Started \"Decision Tree\" model... DONE... 11.624 seconds. Accuracy: 0.33, Accuracy_K-Fold: [0.48148148 0.44074074 0.4        0.37918216 0.49814126]\n",
            "Started \"Random Forest\" model... DONE... 20.175 seconds. Accuracy: 0.363, Accuracy_K-Fold: [0.60740741 0.62222222 0.58148148 0.60223048 0.64684015]\n",
            "Started \"Randomized Search CV\" model... DONE... 52.476 seconds. Accuracy: 0.444, Accuracy_K-Fold: [0.86296296 0.8        0.85185185 0.85130112 0.85130112]\n",
            "\n",
            "MODEL PERFORMANCE: \n",
            "{'Logistic Regression': {'accuracy': 0.481, 'accuracy_kfold': 0.835, 'precision': 0.374, 'recall': 0.225, 'f1': 0.218, 'cm': array([[ 0,  0,  0, 11,  0,  0,  0,  1],\n",
            "       [ 0, 18,  0, 32,  0,  0,  0,  1],\n",
            "       [ 0,  0,  0, 25,  0,  0,  0,  0],\n",
            "       [ 0,  1,  0, 96,  0,  0,  0,  1],\n",
            "       [ 0,  0,  0, 18,  2,  0,  0,  1],\n",
            "       [ 0,  1,  0, 12,  0,  0,  0,  2],\n",
            "       [ 0,  0,  0,  9,  0,  0,  0,  1],\n",
            "       [ 0,  0,  0, 24,  0,  0,  0, 14]]), 'elapsed_time': 33.253, 'performance_ratio': 0.025, 'accuracy_confidence': 0.0198}, 'SVM': {'accuracy': 0.47, 'accuracy_kfold': 0.742, 'precision': 0.118, 'recall': 0.226, 'f1': 0.155, 'cm': array([[ 0,  0,  0, 11,  0,  0,  0,  1],\n",
            "       [ 0,  0,  0, 40,  0,  0,  0, 11],\n",
            "       [ 0,  0,  0, 22,  0,  0,  0,  3],\n",
            "       [ 0,  0,  0, 95,  0,  0,  0,  3],\n",
            "       [ 0,  0,  0, 11,  0,  0,  0, 10],\n",
            "       [ 0,  0,  0,  9,  0,  0,  0,  6],\n",
            "       [ 0,  0,  0,  8,  0,  0,  0,  2],\n",
            "       [ 0,  0,  0,  6,  0,  0,  0, 32]]), 'elapsed_time': 9.154, 'performance_ratio': 0.081, 'accuracy_confidence': 0.0234}, 'Decision Tree': {'accuracy': 0.33, 'accuracy_kfold': 0.44, 'precision': 0.179, 'recall': 0.17, 'f1': 0.133, 'cm': array([[ 0,  0,  0,  9,  0,  0,  0,  3],\n",
            "       [ 0,  1,  7, 24,  0,  0,  0, 19],\n",
            "       [ 0,  1,  5, 10,  0,  0,  0,  9],\n",
            "       [ 0,  0,  3, 65,  0,  0,  0, 30],\n",
            "       [ 0,  0,  0, 11,  0,  0,  0, 10],\n",
            "       [ 0,  0,  0, 12,  0,  0,  0,  3],\n",
            "       [ 0,  0,  0,  5,  0,  0,  0,  5],\n",
            "       [ 0,  0,  0, 20,  0,  0,  0, 18]]), 'elapsed_time': 11.624, 'performance_ratio': 0.038, 'accuracy_confidence': 0.0265}, 'Random Forest': {'accuracy': 0.363, 'accuracy_kfold': 0.612, 'precision': 0.045, 'recall': 0.125, 'f1': 0.067, 'cm': array([[ 0,  0,  0, 12,  0,  0,  0,  0],\n",
            "       [ 0,  0,  0, 51,  0,  0,  0,  0],\n",
            "       [ 0,  0,  0, 25,  0,  0,  0,  0],\n",
            "       [ 0,  0,  0, 98,  0,  0,  0,  0],\n",
            "       [ 0,  0,  0, 21,  0,  0,  0,  0],\n",
            "       [ 0,  0,  0, 15,  0,  0,  0,  0],\n",
            "       [ 0,  0,  0, 10,  0,  0,  0,  0],\n",
            "       [ 0,  0,  0, 38,  0,  0,  0,  0]]), 'elapsed_time': 20.175, 'performance_ratio': 0.03, 'accuracy_confidence': 0.026}, 'Randomized Search CV': {'accuracy': 0.444, 'accuracy_kfold': 0.843, 'precision': 0.119, 'recall': 0.201, 'f1': 0.146, 'cm': array([[ 0,  0,  0, 11,  0,  0,  0,  1],\n",
            "       [ 0,  0,  0, 45,  0,  0,  0,  6],\n",
            "       [ 0,  0,  0, 25,  0,  0,  0,  0],\n",
            "       [ 0,  0,  0, 96,  0,  0,  0,  2],\n",
            "       [ 0,  0,  0, 14,  0,  0,  0,  7],\n",
            "       [ 0,  0,  0, 11,  0,  0,  0,  4],\n",
            "       [ 0,  0,  0,  8,  0,  0,  0,  2],\n",
            "       [ 0,  0,  0, 14,  0,  0,  0, 24]]), 'elapsed_time': 52.476, 'performance_ratio': 0.016, 'accuracy_confidence': 0.0194}}\n"
          ]
        }
      ],
      "source": [
        "# TASK 3.B.1 - IMPLEMENT LOGISTIC REGRESSION\n",
        "## NOTICE: THIS IS WITHOUT PCA\n",
        "from sklearn.linear_model import LogisticRegression\n",
        "logistic_params = {\n",
        "    'C': 1.0,\n",
        "    'solver': 'liblinear',\n",
        "    'penalty': 'l2'\n",
        "}\n",
        "clf = LogisticRegression(max_iter=2000, **logistic_params)\n",
        "calculate_metrics('Logistic Regression', clf, False, True)\n",
        "\n",
        "# TASK 3.B.2 - IMPLEMENT SVM\n",
        "from sklearn.svm import SVC\n",
        "svm_params = {\n",
        "    'C': 1.0,\n",
        "    'kernel': 'rbf',\n",
        "    'gamma': 'scale'\n",
        "}\n",
        "clf = SVC(**svm_params)\n",
        "calculate_metrics('SVM', clf, False, True)\n",
        "\n",
        "\n",
        "\n",
        "# TASK 3.C.1 - CONSTRUCT VARIOUS MODELS {SVM, Decision Trees, Random Forest, etc.}\n",
        "# TASK 3.C.2 - Apply model regularization techniques {learning rates, regularization parameters, etc.}\n",
        "# DECISION TREE\n",
        "from sklearn.tree import DecisionTreeClassifier\n",
        "decision_tree_params = {\n",
        "    'criterion': 'gini',\n",
        "    'max_depth': None,\n",
        "    'min_samples_split': 2\n",
        "}\n",
        "clf = DecisionTreeClassifier(**decision_tree_params)\n",
        "calculate_metrics('Decision Tree', clf, False, True)\n",
        "\n",
        "# RANDOM FOREST\n",
        "from sklearn.ensemble import RandomForestClassifier\n",
        "random_forest_params = {\n",
        "    'n_estimators': 100,\n",
        "    'random_state': 42\n",
        "}\n",
        "clf = RandomForestClassifier(**random_forest_params)\n",
        "calculate_metrics('Random Forest', clf, False, True)\n",
        "\n",
        "# RANDOMIZED SEARCH CV\n",
        "from sklearn.model_selection import RandomizedSearchCV\n",
        "from scipy.stats import loguniform\n",
        "param_grid_rand = {\n",
        "    \"C\": loguniform(1e3, 1e5),\n",
        "    \"gamma\": loguniform(1e-4, 1e-1),\n",
        "}\n",
        "clf = RandomizedSearchCV(SVC(kernel=\"rbf\", class_weight=\"balanced\"), param_grid_rand, n_iter=2, random_state=2)\n",
        "calculate_metrics('Randomized Search CV', clf, False, True)\n",
        "\n",
        "# PRINT DICTIONARY OF MODEL PERFORMANCE\n",
        "print(f\"\\nMODEL PERFORMANCE: \\n{model_performance}\")"
      ]
    },
    {
      "cell_type": "code",
      "execution_count": 65,
      "metadata": {
        "colab": {
          "base_uri": "https://localhost:8080/"
        },
        "id": "JGOWCCeVeVFt",
        "outputId": "79a76012-2e60-4b8e-ce8b-57cdacef344d"
      },
      "outputs": [
        {
          "output_type": "stream",
          "name": "stdout",
          "text": [
            "Started \"Grid Search CV\" model... DONE... 46.622 seconds. Accuracy: 0.144, Accuracy_K-Fold: [0.78518519 0.77407407 0.74814815 0.79553903 0.81040892]\n"
          ]
        }
      ],
      "source": [
        "# GRID SEARCH CV\n",
        "from sklearn.model_selection import GridSearchCV\n",
        "param_grid = {}\n",
        "clf = GridSearchCV(SVC(kernel=\"rbf\", class_weight=\"balanced\"), param_grid)\n",
        "calculate_metrics('Grid Search CV', clf, False, True)"
      ]
    },
    {
      "cell_type": "markdown",
      "metadata": {
        "id": "4EKGpUXvg3QQ"
      },
      "source": [
        "## 4. Dimensionality Reduction, Performance Measurement, and Model Evaluation"
      ]
    },
    {
      "cell_type": "code",
      "execution_count": null,
      "metadata": {
        "colab": {
          "base_uri": "https://localhost:8080/"
        },
        "id": "47PItJMmNbEl",
        "outputId": "2a6b9ae0-6575-4fc2-bbf8-e67a8f1529a6"
      },
      "outputs": [
        {
          "output_type": "stream",
          "name": "stdout",
          "text": [
            "Started \"Randomized Search CV - 1\" model... DONE... 27.797 seconds. Accuracy: 0.452\n",
            "Started \"Randomized Search CV - 2\" model..."
          ]
        }
      ],
      "source": [
        "# RUNNING RANDOMIZED SEARCH CV... AGAIN\n",
        "## CHANGING SEED HYPERPARAMETERS FOR TESTING...\n",
        "for i in range(1, 3):\n",
        "    clf = RandomizedSearchCV(SVC(kernel=\"rbf\", class_weight=\"balanced\"), param_grid_rand, n_iter=4, random_state=i)\n",
        "    calculate_metrics(f\"Randomized Search CV - {i}\", clf, False, False)"
      ]
    },
    {
      "cell_type": "code",
      "execution_count": null,
      "metadata": {
        "id": "mkruwh5ZbHi9"
      },
      "outputs": [],
      "source": [
        "# VISUALIZE THE COVARIANCE MATRIX WITHOUT PCA\n",
        "cov_matrix = np.cov(X_train_scaled.T)\n",
        "plt.figure(figsize=(10, 10))\n",
        "sns.heatmap(cov_matrix, vmax=1, square=True, cmap='viridis')\n",
        "plt.title('Covariance Matrix of Features')\n",
        "plt.show()"
      ]
    },
    {
      "cell_type": "code",
      "execution_count": null,
      "metadata": {
        "id": "jCRNdPRlbCL3"
      },
      "outputs": [],
      "source": [
        "# RENDER EXAMPLE OF EIGENVALUES\n",
        "eigenvalues, eigenvectors = np.linalg.eig(cov_matrix)\n",
        "\n",
        "# Converting to Real Numbers\n",
        "eigenvalues = np.real(eigenvalues)\n",
        "eigenvectors = np.real(eigenvectors)\n",
        "\n",
        "# Sorting the Eigenvalues and Eigenvectors in descending order\n",
        "sorted_indices = np.argsort(eigenvalues)[::-1]\n",
        "eigenvalues_sorted = eigenvalues[sorted_indices]\n",
        "eigenvectors_sorted = eigenvectors[:,sorted_indices]\n",
        "\n",
        "# Printing a few Eigenvalues to see their magnitudes\n",
        "print(\"Eigenvalues:\")\n",
        "print(eigenvalues_sorted[:10])\n",
        "\n",
        "# Visualizing the Magnitude of Eigenvalues\n",
        "plt.figure(figsize=(12, 6))\n",
        "plt.plot(eigenvalues_sorted)\n",
        "plt.title('Eigenvalues of the Covariance Matrix')\n",
        "plt.xlabel('All Features')\n",
        "plt.ylabel('Eigenvalue')\n",
        "plt.yscale('log') # Using logarithmic scale for better visibility\n",
        "plt.scatter(30, eigenvalues_sorted[30], color='red')  # Red dot at x=30\n",
        "print(\"\\nRED DOT: Only a Few features are needed as the Eigenvalues drop off quickly after ~30 components.\")\n",
        "plt.show()"
      ]
    },
    {
      "cell_type": "code",
      "execution_count": null,
      "metadata": {
        "id": "g0l-MfFqhQ7e"
      },
      "outputs": [],
      "source": [
        "# TASK 4.1 - EMPLOY DIMENSIONALITY REDUCTION TECHNIQUES SUCH AS PCA\n",
        "from sklearn.decomposition import PCA\n",
        "\n",
        "# Apply PCA to reduce dimensionality.\n",
        "n_components=30\n",
        "pca = PCA(n_components)\n",
        "X_pca = pca.fit_transform(X_train_scaled)\n",
        "\n",
        "X_train_pca = pca.transform(X_train_scaled)\n",
        "X_test_pca = pca.transform(X_test_scaled)\n",
        "\n",
        "# Calculate the variance of each feature\n",
        "feature_variances = np.var(X_train_scaled, axis=0)\n",
        "\n",
        "# CoVariance after PCA\n",
        "print('Reduction of Dimensions to Fewer Components, showing CoVariance:')\n",
        "plt.figure(figsize=(12, 6))\n",
        "plt.bar(range(1, n_components+1), pca.explained_variance_ratio_, alpha=0.5, align='center')\n",
        "plt.ylabel('Explained variance ratio')\n",
        "plt.xlabel('Principal Component Index')\n",
        "plt.title('Variance Ratio by PCA Components')\n",
        "plt.show()"
      ]
    },
    {
      "cell_type": "code",
      "execution_count": null,
      "metadata": {
        "id": "TUIzGXUVbE1I"
      },
      "outputs": [],
      "source": [
        "# Reapplying PCA with 2 components as a test.\n",
        "print('\\nExample of 2 Components:')\n",
        "pca2 = PCA(n_components=2)\n",
        "X_pca2= pca2.fit_transform(X_train_scaled)\n",
        "pca_df = pd.DataFrame(data=X_pca2, columns=['PC1', 'PC2'])\n",
        "pca_df['Target'] = y_train\n",
        "plt.figure(figsize=(10, 8))\n",
        "sns.scatterplot(x=\"PC1\", y=\"PC2\", hue=\"Target\", data=pca_df, palette=\"Set1\", alpha=0.8)\n",
        "plt.title('PCA on Face Data')\n",
        "plt.xlabel('Principal Component 1')\n",
        "plt.ylabel('Principal Component 2')\n",
        "plt.show()"
      ]
    },
    {
      "cell_type": "code",
      "execution_count": null,
      "metadata": {
        "id": "5oFAphb_cLz1"
      },
      "outputs": [],
      "source": [
        "# IMPLEMENT WITH PCA\n",
        "clf = LogisticRegression(max_iter=2000, **logistic_params)\n",
        "calculate_metrics('PCA - Logistic Regression', clf, True, True)\n",
        "\n",
        "clf = SVC(**svm_params)\n",
        "calculate_metrics('PCA - SVM', clf, True, True)\n",
        "\n",
        "clf = DecisionTreeClassifier(**decision_tree_params)\n",
        "calculate_metrics('PCA - Decision Tree', clf, True, True)\n",
        "\n",
        "clf = RandomForestClassifier(**random_forest_params)\n",
        "calculate_metrics('PCA - Random Forest', clf, True, True)\n",
        "\n",
        "clf = RandomizedSearchCV(SVC(kernel=\"rbf\", class_weight=\"balanced\"), param_grid_rand, n_iter=2, random_state=2)\n",
        "calculate_metrics('PCA - Randomized Search CV', clf, True, True)\n",
        "\n",
        "clf = GridSearchCV(SVC(kernel=\"rbf\", class_weight=\"balanced\"), param_grid)\n",
        "calculate_metrics('PCA - Grid Search CV', clf, True, True)"
      ]
    },
    {
      "cell_type": "code",
      "execution_count": null,
      "metadata": {
        "id": "gVDjICbhHBUR"
      },
      "outputs": [],
      "source": [
        "# ENSEMBLE METHOD - BOOSTING\n",
        "from sklearn.ensemble import GradientBoostingClassifier\n",
        "\n",
        "gb_params = {'n_estimators': 100, 'learning_rate': 0.2, 'max_depth': 3, 'random_state': 42}\n",
        "clf = GradientBoostingClassifier(**gb_params)\n",
        "calculate_metrics('PCA - Gradient Boosting', clf, True, False)"
      ]
    },
    {
      "cell_type": "code",
      "source": [
        "# ATTEMPTING SMOTE AGAIN\n",
        "from sklearn.datasets import make_classification\n",
        "from imblearn.over_sampling import SMOTE\n",
        "from collections import Counter\n",
        "\n",
        "print(f\"Original dataset shape {Counter(y)}\")\n",
        "\n",
        "target_size = int(0.2 * max(Counter(y).values()))\n",
        "sampling_strategy = {class_label: target_size for class_label, count in Counter(y).items() if count < target_size}\n",
        "sm = SMOTE(sampling_strategy=sampling_strategy, random_state=42)\n",
        "X, y = sm.fit_resample(X, y)\n",
        "\n",
        "print(f\"Resampled dataset shape {Counter(y)}\")\n",
        "clf = RandomizedSearchCV(SVC(kernel=\"rbf\", class_weight=\"balanced\"), param_grid_rand, n_iter=2, random_state=2)\n",
        "calculate_metrics('SMOTE + PCA - Randomized Search CV', clf, True, True)"
      ],
      "metadata": {
        "id": "Qq9tcYHSGaKr"
      },
      "execution_count": null,
      "outputs": []
    },
    {
      "cell_type": "code",
      "execution_count": null,
      "metadata": {
        "id": "chSyMtNRhkdl"
      },
      "outputs": [],
      "source": [
        "######\n",
        "# PRINT EVERYTHING OUT IN A PRETTY TABLE\n",
        "######\n",
        "from prettytable import PrettyTable\n",
        "\n",
        "# FUNCTIONS TO CALCULATE CONFUSION MATRIX\n",
        "def calculate_confusion_matrix_metrics(cm):\n",
        "    tp = np.diag(cm)\n",
        "    fp = np.sum(cm, axis=0) - tp\n",
        "    fn = np.sum(cm, axis=1) - tp\n",
        "    tn = np.sum(cm) - (fp + fn + tp)\n",
        "    sensitivity = sum(tp) / (sum(tp) + sum(fn))\n",
        "    specificity = sum(tn) / (sum(tn) + sum(fp))\n",
        "    positive_precision = sum(fp) / (sum(tp) + sum(fp))\n",
        "    negative_precision = sum(fn) / (sum(tn) + sum(fn))\n",
        "    error_rate = 1 - (positive_precision + negative_precision)\n",
        "    return tp, fp, fn, tn, sensitivity, specificity, positive_precision, negative_precision, error_rate\n",
        "\n",
        "def update_model_performance_with_metrics(model_performance):\n",
        "    for model, metrics in model_performance.items():\n",
        "        cm = metrics['cm']\n",
        "        tp, fp, fn, tn, sensitivity, specificity, positive_precision, negative_precision, error_rate = calculate_confusion_matrix_metrics(cm)\n",
        "        metrics['tp'] = sum(tp.tolist())\n",
        "        metrics['fp'] = sum(fp.tolist())\n",
        "        metrics['fn'] = sum(fn.tolist())\n",
        "        metrics['tn'] = sum(tn.tolist())\n",
        "        metrics['sensitivity'] = round(sensitivity,3)\n",
        "        metrics['specificity'] = round(specificity,3)\n",
        "        metrics['positive_precision'] = round(positive_precision,3)\n",
        "        metrics['negative_precision'] = round(negative_precision,3)\n",
        "        metrics['error_rate'] = round(error_rate,3)\n",
        "        metrics['accuracy_confidence'] = round(1.96 * math.sqrt(metrics['accuracy']  * (1 - metrics['accuracy']) / n_samples),3)\n",
        "\n",
        "update_model_performance_with_metrics(model_performance)\n",
        "# print(model_performance)\n",
        "\n",
        "# GENERATE PRETTY TABLE\n",
        "sorted_models = sorted(model_performance.items(), key=lambda x: x[1]['f1'], reverse=True)\n",
        "table = PrettyTable()\n",
        "table.field_names = [\"Model\", \"Accuracy\", \"Acc. K-Fold\", \"Confidence\", \"Time\", \"Ratio\", \"Precision\", \"Recall\", \"F1\", \"TP\", \"FP\", \"FN\", \"TN\", \"Sens.\", \"Spec.\", \"+ Prec.\", \"- Prec.\", \"Error\"]\n",
        "for model, metrics in sorted_models:\n",
        "    table.add_row([model,\n",
        "                   \"{:.1%}\".format(metrics['accuracy']), \"{:.1%}\".format(metrics['accuracy_kfold']), \"+/- {:.1%}\".format(metrics['accuracy_confidence']), f\"{round(metrics['elapsed_time'])}s\",\n",
        "                   \"{:.1%}\".format(metrics['performance_ratio']), metrics['precision'], metrics['recall'], metrics['f1'], metrics['tp'], metrics['fp'], metrics['fn'], metrics['tn'],\n",
        "                   metrics['sensitivity'], metrics['specificity'], metrics['positive_precision'], metrics['negative_precision'], metrics['error_rate']])\n",
        "\n",
        "# PRINT FULL PERFORMANCE TABLE\n",
        "print(f\"Printing Model Performance Table (Sorted by Performance Ratio):\\n{table}\")\n",
        "best_model = sorted_models[0][0]  # First model in the sorted list\n",
        "best_score = model_performance[best_model]['f1']\n",
        "print(f\"The model with the highest performance score is \\\"{best_model}\\\" with a performance ratio of {best_score:.3f}.\")"
      ]
    },
    {
      "cell_type": "code",
      "source": [],
      "metadata": {
        "id": "Z2pIU32OyA8t"
      },
      "execution_count": null,
      "outputs": []
    }
  ],
  "metadata": {
    "colab": {
      "provenance": [],
      "authorship_tag": "ABX9TyPLlRE/psO+B8BQT+yRSGVU",
      "include_colab_link": true
    },
    "kernelspec": {
      "display_name": "Python 3",
      "name": "python3"
    },
    "language_info": {
      "name": "python"
    }
  },
  "nbformat": 4,
  "nbformat_minor": 0
}