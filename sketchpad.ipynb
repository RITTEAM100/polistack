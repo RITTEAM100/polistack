{
 "cells": [
  {
   "cell_type": "code",
   "execution_count": 42,
   "outputs": [
    {
     "name": "stderr",
     "output_type": "stream",
     "text": [
      "[nltk_data] Downloading package punkt to\n",
      "[nltk_data]     /Users/odinliamwright/nltk_data...\n",
      "[nltk_data]   Package punkt is already up-to-date!\n"
     ]
    },
    {
     "data": {
      "text/plain": "True"
     },
     "execution_count": 42,
     "metadata": {},
     "output_type": "execute_result"
    }
   ],
   "source": [
    "import requests\n",
    "import json\n",
    "import nltk\n",
    "from nltk.tokenize import word_tokenize\n",
    "from nltk.stem import PorterStemmer\n",
    "nltk.download('punkt')"
   ],
   "metadata": {
    "collapsed": false,
    "ExecuteTime": {
     "end_time": "2023-06-07T00:14:02.899173Z",
     "start_time": "2023-06-07T00:14:02.751543Z"
    }
   }
  },
  {
   "cell_type": "code",
   "execution_count": 47,
   "outputs": [
    {
     "name": "stdout",
     "output_type": "stream",
     "text": [
      "['provid', 'consider', 'bill', 'h.r', '277', 'amend', 'chapter', 'titl', 'unit', 'state', 'code', 'major', 'rule', 'execut', 'branch', 'shall', 'have', 'forc', 'effect', 'unless', 'joint', 'resolut', 'approv', 'enact', 'into', 'law', '288', 'clarifi', 'natur', 'judici', 'review', 'agenc', 'interpret', 'statutori', 'regulatori', 'provis', '1615', 'prohibit', 'use', 'feder', 'fund', 'ban', 'stove', '1640', 'secretari', 'energi', 'final', 'implement', 'enforc', 'propos', 'conserv', 'program', 'standard', 'consum', 'convent', 'cook', 'product', 'other', 'purpos', 'sopra', 'rein', 'act', '2023', 'save', 'our', 'protect', 'freedom', 'assault', 'weapon', 'reappoint', 'roger', 'ferguson', 'citizen', 'regent', 'board', 'smithsonian', 'institut', 'appoint', 'antoinett', 'bush', 'michael', 'govan', 'middl', 'market', 'ipo', 'underwrit', 'cost', 'encourag', 'public', 'offer', 'support', 'small', 'busi', 'career', 'technic', 'educ', 'loan', 'agent', 'transpar', 'oversight', 'veteran', 'entrepreneurship', 'train', 'workforc', 'pipelin', 'author', 'capitol', 'ground', 'greater', 'washington', 'soap', 'box', 'derbi', 'secur', 'exchang', '1934', 'specifi', 'certain', 'registr', 'statement', 'content', 'emerg', 'growth', 'compani', 'permit', 'issuer', 'file', 'draft', 'commiss', 'confidenti', 'period', 'financi', 'requir', 'senior', 'accredit', 'investor', 'definit', 'fair', 'invest', 'opportun', 'profession', 'expert', 'congression', 'disapprov', 'under', 'submit', 'fish', 'wildlif', 'servic', 'relat', 'endang', 'threaten', 'plant', 'speci', 'statu', 'northern', 'long-ear', 'bat', 'nation', 'marin', 'fisheri', 'regul', 'list', 'design', 'critic', 'habitat', 'lesser', 'prairie-chicken', 'section', 'distinct', 'popul', 'segment', 'southern', 'u.s.', 'hostag', 'wrong', 'detaine', 'day', 'transport', 'issu', 'ani', 'guidanc', 'promot', 'traffic', 'photo', 'repeal', 'essenti', 'air', 'acceler', 'applic', 'director', 'center', 'diseas', 'control', 'prevent', 'presid', 'consent', 'senat', 'inclus', 'vietnam', 'memori', 'wall', 'name', 'lost', 'crew', 'member', 'uss', 'frank', 'evan', 'kill', 'june', '1969', 'administr', 'expand', 'elig', 'contract', 'gener', 'artifici', 'intellig', 'disclos', 'their', 'output', 'been', 'food', 'drug', 'cosmet', 'enhanc', 'manufactur', 'amount', 'inform', 'report', 'reauthor', 'firefight', 'cancer', 'registri', '2018', 'armi', 'award', 'medal', 'thoma', 'dewey', 'wise', 'dure', 'war', 'labor', 'respect', 'time', 'elect', 'pre-elect', 'hear', 'identif', 'employ', 'polici', 'depart', 'defens', 'adult', 'cabaret', 'perform', 'reform', 'offic', 'counsel', 'process', 'appel', 'illeg', 'sale', 'firearm', 'improv', 'stabil', '2010', 'council', 'consid', 'altern', 'approach', 'befor', 'determin', 'nonbank', 'supervis', 'governor', 'reserv', 'system', 'paperwork', 'burden', 'reduct', 'extens', 'tax', 'airport', 'airway', 'trust', 'port', 'entri', 'direct', 'agricultur', 'carri', 'out', 'grant', 'entiti', 'project', 'further', 'resili', 'modern', 'innov', 'address', 'gap', 'flexibl', 'chronic', 'coverag', 'choic', 'arrang', 'crop', 'insur', 'research', 'develop', 'mushroom', 'ensur', 'larg', 'onlin', 'platform', 'need', 'non-english', 'user', 'contractor', 'employe', 'corp', 'paid', 'prevail', 'wage', 'express', 'radio', 'automobil', 'streamlin', 'higher', 'marijuana', 'health', 'strike', 'advic', 'devic', 'shortag', 'notif', 'afghan', 'alli', '2009', 'addit', 'special', 'immigr', 'visa', 'strategi', 'effici', 'establish', 'coordin', 'offici', 'subseason', 'season', 'predict', 'skill', 'precipit', 'forecast', 'central', 'xix', 'social', 'demonstr', 'test', 'whole', 'child', 'model', 'increas', 'languag', 'access', 'behavior', 'facil', 'postal', 'locat', 'prospect', 'street', 'avon', 'new', 'york', 'anthoni', 'mazurkiewicz', 'post', 'build', 'biomed', 'advanc', 'follow-on', 'transact', 'procur', 'suppli', 'experiment', 'acquir', 'commerci', 'modifi', 'criteria', 'recognit', 'associ', 'diagnost', 'prepared', 'plan', 'affair', 'conduct', 'studi', 'qualiti', 'care', 'differ', 'between', 'mental', 'compar', 'non-depart', 'may', 'attend', 'pre-apprenticeship', 'assist', 'barda', 'medic', 'countermeasur', 'viral', 'threat', 'pandem', 'potenti', 'includ', 'cybersecur', 'rural', 'water', 'wastewat', 'circuit', 'rider', 'portugues', 'heritag', 'month', 'acknowledg', 'unborn', 'children', 'legal', 'constitut', 'person', 'who', 'entitl', 'equal', 'life-sav', 'data', 'assess', 'longest', 'expir', 'date', 'religi', 'restor', '1993', 'elimin', 'such', 'district', 'columbia', 'construct', 'inspect', 'work', 'highway', 'fiscal', 'respons', 'notam', 'relief', 'american', 'short', 'line', 'railroad', 'incorpor', 'practic', 'reduc', 'bird', 'fatal', 'result', 'collis', 'continu', 'oper', 'cemeteri', 'restrict', 'canin', 'lifesav', 'anesthesia', 'matern', 'haven', 'waiver', 'modif', 'student', 'week', 'awar', 'older', 'motorcycl', 'safeti', 'dipg', 'pediatr', 'brain', 'rais', 'diffus', 'intrins', 'pontin', 'glioma', 'tumor', 'power', 'facilit', 'more', 'expediti', 'electr', 'transmiss', 'xviii', 'revis', 'payment', 'ambul', 'medicar', 'collabor', 'israel', 'technolog', 'extend', 'fetal', 'alcohol', 'spectrum', 'disord', 'proxi', 'advisori', 'firm', 'counter', 'mass', 'destruct', 'homeland', 'honor', '125th', 'anniversari', 'rough', 'spanish', 'allow', 'medicaid', 'aviat', 'materi', 'excel', 'waiv', 'limit', 'order', 'gari', 'lee', 'mckiddi', 'miamisburg', 'ohio', 'valor', 'while', 'helicopt', 'chief', 'door', 'gunner', '1st', 'calvari', 'divis', 'intern', 'revenu', '1986', 'credit', 'instal', 'region', 'signific']\n",
      "554\n"
     ]
    }
   ],
   "source": [
    "# Get all bills by last updated date\n",
    "limit = 20\n",
    "pages = 5\n",
    "offset_ = 0\n",
    "offset = 0\n",
    "headers = {'Content-Type': 'application/json'}\n",
    "payload = {}\n",
    "\n",
    "terms = []\n",
    "tokenlist = []\n",
    "stopwords = [\"for\", \"of\", \"the\", \",\", \"or\", \"a\", \"to\", \"is\", \":\", \"and\", \";\", \")\", \"(\", \"that\", \"as\", \"by\", \"be\", \"an\", \".\", \"``\", \"''\", \"from\", \"are\", \"with\", \"which\"]\n",
    "ps = PorterStemmer()\n",
    "\n",
    "for p in range(pages):\n",
    "    offset = offset_ * limit\n",
    "    url = \"https://api.congress.gov/v3/bill?api_key=Y1hRdQCbKpOFFQVY1sUsxyiAzZ3XQgejdC45GRP1&limit=\" + str(limit) + \"&offset=\" + str(offset)\n",
    "    offset_ += 1\n",
    "    response = requests.request(\"GET\", url, headers=headers, data=payload)\n",
    "    obj = json.loads(response.text)\n",
    "    json_formatted_str = json.dumps(obj, indent=4)\n",
    "    #print(json_formatted_str)\n",
    "    for i in range(len(obj[\"bills\"])):\n",
    "        #print(i)\n",
    "        title = obj[\"bills\"][i][\"title\"].lower()\n",
    "        latestActionDate = obj[\"bills\"][i][\"latestAction\"][\"actionDate\"]\n",
    "        #print(title)\n",
    "\n",
    "        tokenlist = word_tokenize(title)\n",
    "        for token in tokenlist:\n",
    "            token = ps.stem(token)\n",
    "            if (token not in terms) and (token not in stopwords) and (len(token) > 2):\n",
    "                #print(tokenlist)\n",
    "                #print(token.lower())\n",
    "                terms.append(token.lower())\n",
    "print(terms)\n",
    "print(len(terms))\n"
   ],
   "metadata": {
    "collapsed": false,
    "ExecuteTime": {
     "end_time": "2023-06-07T00:15:38.068587Z",
     "start_time": "2023-06-07T00:15:22.291836Z"
    }
   }
  },
  {
   "cell_type": "code",
   "execution_count": null,
   "outputs": [],
   "source": [],
   "metadata": {
    "collapsed": false
   }
  },
  {
   "cell_type": "code",
   "execution_count": 36,
   "outputs": [
    {
     "name": "stdout",
     "output_type": "stream",
     "text": [
      "['accredited', 'investor', 'definition', 'review', 'act', 'fair', 'investment', 'opportunities', 'professional', 'experts', 'providing', 'congressional', 'disapproval', 'under', 'chapter', '8', 'title', '5', 'united', 'states', 'code', 'rule', 'submitted', 'fish', 'wildlife', 'service', 'relating', 'endangered', 'threatened', 'plants', 'species', 'status', 'northern', 'long-eared', 'bat', 'national', 'marine', 'fisheries', 'regulations', 'listing', 'designating', 'critical', 'habitat', 'lesser', 'prairie-chicken', 'section', '4', 'd', 'distinct', 'population', 'segment', 'southern', 'u.s.', 'hostage', 'wrongful', 'detainee', 'day', '2023', 'prohibit', 'secretary', 'transportation', 'issuing', 'any', 'regulation', 'guidance', 'promotes', 'use', 'traffic', 'photo', 'enforcement', 'other', 'purposes', 'repeal', 'essential', 'air', 'program', 'accelerate', 'applicability', 'requirement', 'director', 'centers', 'disease', 'control', 'prevention', 'appointed', 'president', 'consent', 'senate', 'provide', 'inclusion', 'on', 'vietnam', 'veterans', 'memorial', 'wall', 'names', 'lost', 'crew', 'members', 'uss', 'frank', 'e.', 'evans', 'killed', 'june', '3', '1969', 'require', 'administrator', 'small', 'business', 'administration', 'expand', 'eligibility', 'certain', 'contracts', 'generative', 'artificial', 'intelligence', 'disclose', 'their', 'output', 'has', 'been', 'generated', 'amend', 'federal', 'food', 'drug', 'cosmetic', 'enhance', 'manufacturing', 'amount', 'information', 'reporting', 'reauthorize', 'firefighter', 'cancer', 'registry', '2018', 'authorize', 'army', 'award', 'medal', 'thomas', 'dewey', 'wise', 'member', 'during', 'war', 'labor', 'relations', 'respect', 'timing', 'elections', 'pre-election', 'hearings', 'identification', 'issues', 'interpretation', 'employer', 'rules', 'policies', 'department', 'defense', 'funds', 'adult', 'cabaret', 'performances', 'reform', 'board', 'office', 'general', 'counsel', 'process', 'appellate', 'prevent', 'illegal', 'sale', 'firearms', 'improvement']\n"
     ]
    }
   ],
   "source": [
    "terms = []\n",
    "tokenlist = []\n",
    "stopwords = [\"for\", \"of\", \"the\", \",\", \"or\", \"a\", \"to\", \"is\", \":\", \"and\", \";\", \")\", \"(\", \"that\", \"as\", \"by\", \"be\", \"an\", \".\", \"``\", \"''\", \"from\", \"are\", \"with\", \"which\"]\n",
    "for i in range(len(obj[\"bills\"])):\n",
    "    #print(i)\n",
    "    title = obj[\"bills\"][i][\"title\"].lower()\n",
    "    latestActionDate = obj[\"bills\"][i][\"latestAction\"][\"actionDate\"]\n",
    "    #print(title)\n",
    "    tokenlist = word_tokenize(title)\n",
    "    for token in tokenlist:\n",
    "        if (token not in terms) and (token not in stopwords):\n",
    "            #print(tokenlist)\n",
    "            #print(token.lower())\n",
    "            terms.append(token.lower())\n",
    "print(terms)"
   ],
   "metadata": {
    "collapsed": false,
    "ExecuteTime": {
     "end_time": "2023-06-07T00:07:08.354577Z",
     "start_time": "2023-06-07T00:07:08.351044Z"
    }
   }
  },
  {
   "cell_type": "code",
   "execution_count": null,
   "outputs": [],
   "source": [],
   "metadata": {
    "collapsed": false
   }
  }
 ],
 "metadata": {
  "kernelspec": {
   "display_name": "Python 3",
   "language": "python",
   "name": "python3"
  },
  "language_info": {
   "codemirror_mode": {
    "name": "ipython",
    "version": 2
   },
   "file_extension": ".py",
   "mimetype": "text/x-python",
   "name": "python",
   "nbconvert_exporter": "python",
   "pygments_lexer": "ipython2",
   "version": "2.7.6"
  }
 },
 "nbformat": 4,
 "nbformat_minor": 0
}
