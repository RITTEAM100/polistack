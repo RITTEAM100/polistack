{
 "cells": [
  {
   "cell_type": "code",
   "execution_count": 42,
   "outputs": [
    {
     "name": "stderr",
     "output_type": "stream",
     "text": [
      "[nltk_data] Downloading package punkt to\n",
      "[nltk_data]     /Users/odinliamwright/nltk_data...\n",
      "[nltk_data]   Package punkt is already up-to-date!\n"
     ]
    },
    {
     "data": {
      "text/plain": "True"
     },
     "execution_count": 42,
     "metadata": {},
     "output_type": "execute_result"
    }
   ],
   "source": [
    "import requests\n",
    "import json\n",
    "import nltk\n",
    "from nltk.tokenize import word_tokenize\n",
    "from nltk.stem import PorterStemmer\n",
    "nltk.download('punkt')"
   ],
   "metadata": {
    "collapsed": false,
    "ExecuteTime": {
     "end_time": "2023-06-07T00:14:02.899173Z",
     "start_time": "2023-06-07T00:14:02.751543Z"
    }
   }
  },
  {
   "cell_type": "code",
   "execution_count": 104,
   "outputs": [
    {
     "name": "stdout",
     "output_type": "stream",
     "text": [
      "{'provid': [0, 6, 7, 8, 18, 2, 3, 4, 9, 5, 15, 17, 16, 1, 13, 14], 'consider': [0, 13], 'bill': [0, 8, 9, 10, 11, 12, 13, 14, 16, 17, 18, 19, 1, 2, 6, 7, 15, 3, 4], 'h.r': [0, 13], '277': [0], 'amend': [0, 17, 18, 12, 15, 4, 8, 13, 14, 3, 5, 10, 11, 16, 9, 19, 1, 6, 2, 7], 'chapter': [0, 2, 3, 4], 'titl': [0, 2, 3, 4, 17, 5, 12, 16, 9, 1, 11, 8, 13, 19], 'unit': [0, 2, 3, 4, 16, 19, 5, 12, 17, 10, 1, 11, 13, 15, 8, 18], 'state': [0, 2, 3, 4, 16, 19, 5, 12, 17, 10, 1, 11, 13, 15, 8, 18], 'code': [0, 2, 3, 4, 5, 12, 16, 17, 19, 1, 11, 18, 6, 8], 'major': [0, 4, 17], 'rule': [0, 2, 3, 4, 6, 15, 18], 'execut': [0, 9], 'branch': [0], 'shall': [0], 'have': [0, 9], 'forc': [0, 7], 'effect': [0], 'unless': [0], 'joint': [0], 'resolut': [0, 4, 5, 6, 7, 15, 14, 2, 3, 10, 17, 18], 'approv': [0], 'enact': [0], 'into': [0, 9, 18], 'law': [0, 18, 10, 9, 11], '288': [0], 'clarifi': [0, 9], 'natur': [0], 'judici': [0], 'review': [0, 17, 8, 11, 12], 'agenc': [0, 1, 2], 'interpret': [0, 15], 'statutori': [0], 'regulatori': [0], 'provis': [0], '1615': [0], 'prohibit': [0, 6, 16, 2, 3, 17, 18, 19], 'use': [0, 16, 6, 3, 5], 'feder': [0, 18, 12, 8, 14, 10, 3, 17, 7, 9, 15, 16, 1], 'fund': [0, 16, 2, 12, 17, 10], 'ban': [0, 5], 'stove': [0, 3, 4], '1640': [0], 'secretari': [0, 6, 14, 3, 2, 4, 5, 10, 8, 11, 9, 12], 'energi': [0, 2], 'final': [0, 2], 'implement': [0], 'enforc': [0, 6], 'propos': [0, 2], 'conserv': [0, 1, 10, 11, 16], 'program': [0, 7, 3, 5, 6, 9, 12, 16, 1, 8, 13, 15, 11, 19], 'standard': [0, 7], 'consum': [0, 2, 3], 'convent': [0, 2, 18], 'cook': [0, 2], 'product': [0, 8, 2, 10], 'other': [0, 17, 18, 6, 7, 10, 11, 12, 3, 4, 15, 16, 2, 5, 8, 13, 14, 1, 9, 19], 'purpos': [0, 17, 18, 6, 7, 10, 11, 12, 3, 4, 15, 16, 2, 5, 8, 13, 14, 1, 9, 19], 'sopra': [1], 'rein': [2], 'act': [2, 3, 4, 9, 10, 11, 12, 13, 14, 15, 17, 19, 0, 1, 5, 6, 7, 8, 18, 16], '2023': [2, 5, 10, 11, 14, 15, 19, 13, 18, 4, 6, 7, 12, 8, 9, 16, 1, 3], 'save': [3, 9], 'our': [3, 9], 'protect': [4, 15, 9, 19, 3, 7, 13], 'freedom': [4, 11, 15], 'assault': [5], 'weapon': [5, 14], 'reappoint': [6, 8], 'roger': [6], 'ferguson': [6], 'citizen': [6, 7, 8], 'regent': [6, 7, 8], 'board': [6, 7, 8, 17, 0], 'smithsonian': [6, 7, 8], 'institut': [6, 7, 8, 12, 1, 0, 17, 19], 'appoint': [7, 8, 13], 'antoinett': [7], 'bush': [7], 'michael': [8], 'govan': [8], 'middl': [9, 7], 'market': [9], 'ipo': [9], 'underwrit': [9], 'cost': [9], 'encourag': [10, 7], 'public': [10, 13, 0, 3, 12, 16, 4, 2], 'offer': [10], 'support': [11, 8, 10, 4, 6, 7, 14, 5], 'small': [11, 12, 15, 10, 5, 18, 0], 'busi': [11, 12, 15, 10, 5], 'career': [11], 'technic': [11, 7], 'educ': [11, 12, 1, 5, 3, 0, 9, 2, 6, 7, 17, 19], 'loan': [12, 13, 3, 19], 'agent': [12, 13, 18], 'transpar': [12, 16], 'oversight': [13, 0], 'veteran': [14, 9, 4, 5, 19, 0, 2, 1, 11, 17], 'entrepreneurship': [14], 'train': [14, 6], 'workforc': [15, 4, 5, 13], 'pipelin': [15], 'author': [16, 14, 15, 0, 17, 9, 19, 1, 2, 7, 3], 'capitol': [16], 'ground': [16], 'greater': [16, 13], 'washington': [16], 'soap': [16], 'box': [16], 'derbi': [16], 'secur': [17, 18, 19, 9, 13, 14, 5, 1, 16], 'exchang': [17, 13], '1934': [17, 13], 'specifi': [17, 18], 'certain': [17, 10, 2, 5, 16, 8, 6, 9, 18, 19, 15, 1], 'registr': [17, 13, 18], 'statement': [17, 18], 'content': [17], 'emerg': [17, 18, 3, 15, 10, 4], 'growth': [17, 18], 'compani': [17, 18, 0, 6], 'permit': [17, 8, 9], 'issuer': [17], 'file': [17], 'draft': [17], 'commiss': [17], 'confidenti': [17], 'period': [18, 17], 'financi': [18, 0, 6], 'requir': [18, 8, 10, 11, 0, 2, 13, 15, 3, 4, 12, 7, 16], 'senior': [19, 15, 7], 'accredit': [0, 1], 'investor': [0, 12], 'definit': [0, 9], 'fair': [1], 'invest': [1, 6, 15], 'opportun': [1, 4, 12, 18, 6], 'profession': [1], 'expert': [1], 'congression': [2, 3, 4], 'disapprov': [2, 3, 4], 'under': [2, 3, 4, 9, 16, 11, 6, 1, 19], 'submit': [2, 3, 4, 10, 8], 'fish': [2, 4, 13], 'wildlif': [2, 3, 4, 13], 'servic': [2, 3, 4, 7, 14, 13, 18, 19, 0, 16, 9, 12, 5, 1], 'relat': [2, 3, 4, 15, 17, 16, 19, 12], 'endang': [2, 3, 4], 'threaten': [2, 3, 4], 'plant': [2, 3, 4], 'speci': [2, 3, 19, 13], 'statu': [2, 4], 'northern': [2, 4, 1], 'long-ear': [2], 'bat': [2], 'nation': [3, 15, 17, 7, 8, 14, 2, 4, 18, 0, 5], 'marin': [3], 'fisheri': [3], 'regul': [3, 6, 9, 2], 'list': [3], 'design': [3, 2, 15, 19, 8, 4, 5, 6, 7, 14], 'critic': [3], 'habitat': [3], 'lesser': [4], 'prairie-chicken': [4], 'section': [4, 9], 'distinct': [4, 13], 'popul': [4, 13, 2], 'segment': [4, 13], 'southern': [4], 'u.s.': [5, 0], 'hostag': [5], 'wrong': [5], 'detaine': [5], 'day': [5, 4, 7, 15, 14, 3], 'transport': [6, 7, 8], 'issu': [6, 15, 18], 'ani': [6], 'guidanc': [6], 'promot': [6, 18], 'traffic': [6], 'photo': [6], 'repeal': [7], 'essenti': [7], 'air': [7, 14, 9], 'acceler': [8, 16], 'applic': [8, 11, 6, 18, 10, 14], 'director': [8, 13, 2], 'center': [8, 13, 18, 17, 1], 'diseas': [8, 6, 13, 17], 'control': [8, 13, 6], 'prevent': [8, 18, 13, 12, 6, 19], 'presid': [8], 'consent': [8, 13, 18], 'senat': [8, 13, 18], 'inclus': [9], 'vietnam': [9, 14, 18], 'memori': [9, 19], 'wall': [9], 'name': [9], 'lost': [9], 'crew': [9, 18], 'member': [9, 14, 18], 'uss': [9], 'frank': [9], 'evan': [9], 'kill': [9], 'june': [9, 8, 15, 14, 5], '1969': [9], 'administr': [10, 16, 17, 7, 15, 11], 'expand': [10, 18, 19, 11, 4, 6], 'elig': [10, 3, 18, 1], 'contract': [10, 0, 9], 'gener': [11, 17, 16, 7, 8], 'artifici': [11], 'intellig': [11, 2], 'disclos': [11], 'their': [11, 10, 3, 17], 'output': [11], 'been': [11], 'food': [12, 14, 10, 2, 9, 16], 'drug': [12, 14, 10], 'cosmet': [12, 14, 10], 'enhanc': [12, 11, 17, 19], 'manufactur': [12, 10, 5, 18], 'amount': [12], 'inform': [12, 10], 'report': [12, 19, 18, 10, 16, 8], 'reauthor': [13, 12, 5], 'firefight': [13], 'cancer': [13, 7], 'registri': [13], '2018': [13, 5], 'armi': [14, 10], 'award': [14, 3, 0, 18, 16, 12], 'medal': [14, 18], 'thoma': [14], 'dewey': [14], 'wise': [14], 'dure': [14, 3, 17, 18], 'war': [14, 15, 18], 'labor': [15, 17], 'respect': [15, 14, 6, 0, 4, 10], 'time': [15, 18], 'elect': [15], 'pre-elect': [15], 'hear': [15], 'identif': [15], 'employ': [15, 19], 'polici': [15, 8, 4], 'depart': [16, 4, 7, 3, 14], 'defens': [16, 10, 2], 'adult': [16], 'cabaret': [16], 'perform': [16, 12], 'reform': [17, 6], 'offic': [17, 19, 14], 'counsel': [17], 'process': [17, 12, 15, 7], 'appel': [17], 'illeg': [18], 'sale': [18], 'firearm': [18], 'improv': [19, 14, 11, 5, 16, 2, 15], 'stabil': [0, 10, 6], '2010': [0], 'council': [0], 'consid': [0], 'altern': [0], 'approach': [0], 'befor': [0], 'determin': [0, 10, 6], 'nonbank': [0], 'supervis': [0], 'governor': [0], 'reserv': [0, 11, 16], 'system': [0, 12], 'paperwork': [1], 'burden': [1], 'reduct': [1], 'extens': [2], 'tax': [2, 19], 'airport': [2], 'airway': [2], 'trust': [2, 0], 'port': [2], 'entri': [2, 7, 14], 'direct': [3, 16, 10, 17, 8], 'agricultur': [3, 16, 7, 13, 9, 12], 'carri': [3, 9, 12], 'out': [3, 9, 12], 'grant': [3, 5, 8, 16, 12, 19], 'entiti': [3, 0, 16, 12], 'project': [3, 10, 17, 12], 'further': [3], 'resili': [3], 'modern': [3, 0], 'innov': [4, 0, 11], 'address': [4, 9, 11, 16, 2, 6], 'gap': [4, 7], 'flexibl': [5, 6], 'chronic': [6], 'coverag': [6], 'choic': [7], 'arrang': [7], 'crop': [8], 'insur': [8, 16, 9, 6], 'research': [8, 12, 0, 7, 2, 11], 'develop': [8, 0, 3, 6, 5, 1], 'mushroom': [8], 'ensur': [9, 10, 5, 11], 'larg': [9, 11], 'onlin': [9, 11], 'platform': [9, 11], 'need': [9, 11, 13, 18], 'non-english': [9, 11], 'user': [9, 11], 'contractor': [10], 'employe': [10, 12], 'corp': [10], 'paid': [10, 9, 17], 'prevail': [10], 'wage': [10], 'express': [11, 8, 6, 7, 14, 18, 5], 'radio': [11], 'automobil': [11], 'streamlin': [12], 'higher': [12, 1, 0, 17, 19], 'marijuana': [12], 'health': [13, 17, 18, 0, 3, 4, 12, 14, 16, 1, 2, 7], 'strike': [13], 'advic': [13, 18], 'devic': [14], 'shortag': [14, 6], 'notif': [14], 'afghan': [15, 7], 'alli': [15, 7], '2009': [15, 7], 'addit': [15, 7, 3, 10], 'special': [15, 6, 7], 'immigr': [15, 7], 'visa': [15, 7], 'strategi': [15, 16, 7, 2], 'effici': [15, 7, 8], 'establish': [15, 17, 6, 10, 14, 16, 19, 7, 8, 4, 0], 'coordin': [15, 7, 9, 5], 'offici': [15, 7], 'subseason': [16], 'season': [16, 17], 'predict': [16, 11], 'skill': [16], 'precipit': [16], 'forecast': [16, 11], 'central': [16], 'xix': [17], 'social': [17, 9, 5, 1], 'demonstr': [17, 16, 12], 'test': [17, 0, 3, 16], 'whole': [17], 'child': [17], 'model': [17, 16], 'increas': [18, 17, 8, 1, 13], 'languag': [18, 1], 'access': [18, 0, 13, 8, 1, 15], 'behavior': [18, 4, 1, 2], 'facil': [19, 8, 16], 'postal': [19], 'locat': [19], 'prospect': [19], 'street': [19], 'avon': [19], 'new': [19, 11], 'york': [19], 'anthoni': [19], 'mazurkiewicz': [19], 'post': [19], 'build': [19, 16, 2], 'biomed': [0], 'advanc': [0, 17], 'follow-on': [0], 'transact': [0], 'procur': [0], 'suppli': [0], 'experiment': [0], 'acquir': [0], 'commerci': [0], 'modifi': [1, 0, 3, 18, 19], 'criteria': [1, 0], 'recognit': [1, 0], 'associ': [1, 0, 17], 'diagnost': [3], 'prepared': [3], 'plan': [3, 13], 'affair': [4, 5, 11], 'conduct': [4, 10, 2], 'studi': [4, 2, 12], 'qualiti': [4], 'care': [4, 19, 16, 6], 'differ': [4], 'between': [4, 10, 19], 'mental': [4, 7, 13], 'compar': [4, 2], 'non-depart': [4], 'may': [5, 4, 6, 7, 2, 3], 'attend': [5], 'pre-apprenticeship': [5], 'assist': [5, 7, 1, 4, 9], 'barda': [6], 'medic': [6, 1], 'countermeasur': [6], 'viral': [6], 'threat': [6], 'pandem': [6], 'potenti': [6], 'includ': [7, 8, 15, 11], 'cybersecur': [7, 14], 'rural': [7, 8, 13, 16], 'water': [7, 6], 'wastewat': [7], 'circuit': [7], 'rider': [7, 15], 'portugues': [8], 'heritag': [8, 15], 'month': [8, 5, 6, 14, 15, 2], 'acknowledg': [9], 'unborn': [9], 'children': [9, 4, 16], 'legal': [9], 'constitut': [9], 'person': [9], 'who': [9, 16, 17, 18], 'entitl': [9], 'equal': [9, 12], 'life-sav': [10], 'data': [10, 0, 16, 12], 'assess': [10], 'longest': [10], 'expir': [10], 'date': [10, 2], 'religi': [11], 'restor': [11, 19], '1993': [11], 'elimin': [11], 'such': [11, 17, 2, 16, 18, 19], 'district': [11, 3], 'columbia': [11], 'construct': [12], 'inspect': [12, 9], 'work': [12, 4], 'highway': [12], 'fiscal': [13], 'respons': [13], 'notam': [14], 'relief': [15, 4], 'american': [15, 5, 17, 2], 'short': [15], 'line': [15, 19], 'railroad': [15], 'incorpor': [16], 'practic': [16], 'reduc': [16], 'bird': [16], 'fatal': [16], 'result': [16, 1], 'collis': [16], 'continu': [17, 15], 'oper': [17], 'cemeteri': [17], 'restrict': [17], 'canin': [18], 'lifesav': [19], 'anesthesia': [19], 'matern': [0, 16, 6], 'haven': [1], 'waiver': [3], 'modif': [3], 'student': [3, 19], 'week': [4], 'awar': [4, 6, 7, 14, 2, 5], 'older': [5], 'motorcycl': [6], 'safeti': [6, 3, 9], 'dipg': [7], 'pediatr': [7], 'brain': [7, 2], 'rais': [7], 'diffus': [7], 'intrins': [7], 'pontin': [7], 'glioma': [7], 'tumor': [7, 2], 'power': [8, 19], 'facilit': [8, 14, 10], 'more': [8], 'expediti': [8], 'electr': [8, 19], 'transmiss': [8, 19], 'xviii': [9], 'revis': [9], 'payment': [9, 16], 'ambul': [9], 'medicar': [9], 'collabor': [10], 'israel': [10, 19], 'technolog': [10], 'extend': [12, 5, 17, 19], 'fetal': [12], 'alcohol': [12], 'spectrum': [12], 'disord': [12], 'proxi': [13], 'advisori': [13, 3], 'firm': [13], 'counter': [14, 4], 'mass': [14], 'destruct': [14], 'homeland': [14], 'honor': [15, 18], '125th': [15], 'anniversari': [15, 10, 17], 'rough': [15], 'spanish': [15], 'allow': [16, 18, 9], 'medicaid': [16, 1], 'aviat': [17, 3, 5, 7], 'materi': [17], 'excel': [17], 'waiv': [18], 'limit': [18, 7, 14], 'order': [18], 'gari': [18], 'lee': [18], 'mckiddi': [18], 'miamisburg': [18], 'ohio': [18], 'valor': [18], 'while': [18, 2], 'helicopt': [18], 'chief': [18], 'door': [18], 'gunner': [18], '1st': [18], 'calvari': [18], 'divis': [18], 'intern': [19, 18, 2, 6, 11], 'revenu': [19, 18, 2, 6, 11], '1986': [19, 18, 2, 6, 11], 'credit': [19, 11], 'instal': [19, 8], 'region': [19, 15, 4], 'signific': [19, 15], 'comprehens': [1], 'famili': [1], 'caregiv': [1], 'budget': [2], 'peopl': [2, 15, 4], 'republ': [2, 15, 4], 'china': [2, 15, 4], 'termin': [3], 'committe': [3], 'robert': [4], 'stafford': [4], 'disast': [4], 'common': [4], 'interest': [4], 'commun': [4, 17], 'condominium': [4], 'hous': [4, 18], 'cooper': [4, 19, 14], 'damag': [4, 1], 'faa': [5], 'supplier': [5], 'resourc': [6], '2014': [6], 'spill': [6], 'farm': [6, 3], 'evacu': [7], 'categori': [7], 'airplan': [7], 'bridg': [8], 'evidence-bas': [8], 'suicid': [8], 'deterr': [8], 'net': [8], 'barrier': [8], 'deposit': [9], 'corpor': [9, 6], 'appropri': [9], 'claw': [9], 'back': [9], 'compens': [9, 17, 3], 'claim': [11], 'benefit': [11], 'administ': [11], 'all': [12, 8], 'updat': [13, 0], 'post-delist': [13], 'monitor': [13, 0], 'western': [13], 'great': [13], 'lake': [13], 'gray': [13], 'wolf': [13], 'gun': [14, 5], 'violenc': [14, 5], 'rememb': [15], 'victim': [15, 5], '1989': [15], 'tiananmen': [15], 'squar': [15], 'massacr': [15, 10], 'condemn': [15, 16], 'intensifi': [15], 'crackdown': [15], 'human': [15, 3, 4, 7], 'right': [15, 4], 'basic': [15], 'within': [15], 'hong': [15], 'kong': [15], 'chines': [15], 'communist': [15], 'parti': [15], 'elementari': [16], 'secondari': [16], 'school': [16, 15, 7], 'shelter': [16], 'alien': [16], 'not': [16, 18], 'admit': [16], 'depend': [17], 'indemn': [17], 'surviv': [17], 'spous': [17], 'die': [17], 'amyotroph': [17], 'later': [17], 'sclerosi': [17], 'regardless': [17], 'how': [17], 'long': [17], 'had': [17], 'prior': [17], 'death': [17], 'qualifi': [18, 6], 'bond': [18], 'except': [18], 'privat': [18], 'activ': [18, 8], 'first-tim': [18], 'farmer': [18, 3], 'strengthen': [19, 13], 'abraham': [19, 14], 'accord': [19, 14], 'nonpecuniari': [1], 'action': [1], 'cruis': [1], 'ship': [1], 'voyag': [1], 'occur': [1], 'high': [1], 'sea': [1], 'give': [2], 'taxpay': [2], 'advoc': [2], 'comment': [2], 'treasuri': [2], 'mink': [3], 'fur': [3], 'they': [3], 'transit': [3], 'industri': [3], 'apprenticeship': [4], 'colleg': [4], 'consortium': [4], 'ident': [5], 'theft': [5], 'guaranti': [6], 'passiv': [6], 'foreign': [6, 18], 'broadband': [8, 9, 11, 12], 'digit': [10, 14], 'deploy': [11, 12], 'expedit': [12], 'recogn': [13, 15, 10, 17], 'media': [13, 18], 'univers': [15], 'meal': [15, 7], 'internet': [16], 'gateway': [17], 'recreat': [17, 5], 'eat': [18], 'invas': [19, 13], 'forest': [19, 14], 'lpoe': [0], 'nevada': [1], 'econom': [1], 'label': [2], 'shopp': [3], 'keep': [4], 'kupuna': [4], 'fed': [4], 'outdoor': [5], 'nutrit': [6], 'close': [7], 'tsp': [8], 'sequoia': [9], 'enabl': [10], 'pig': [12], 'hawaii': [13], 'proven': [14], 'manag': [14], '2022': [14], 'jewish': [15], 'celebr': [15], 'contribut': [15], 'societi': [15], 'cultur': [15], 'addict': [16], 'overdos': [16], 'caus': [16], 'illicit': [16], 'fentanyl': [16, 19], 'opioid': [16], 'richard': [17], 'star': [17], 'non-tradit': [18], 'capit': [18], 'format': [18], 'multi-class': [19], 'share': [19], 'disclosur': [19], 'kid': [3], 'park': [3], 'through': [4], 'get': [5], 'outsid': [5, 16, 12], 'equit': [6], 'settlement': [6], 'indian': [6, 9], 'land': [6, 15, 16], 'disput': [6], 'regard': [6], 'illinoi': [6], 'infant': [7, 14], 'formula': [7, 14], 'base': [7, 14], 'powder': [7, 14], 'free': [7, 14], 'duti': [7, 14], 'quantit': [7, 14], 'harmon': [8], 'tariff': [8], 'schedul': [8], 'uniform': [8], '8-digit': [8], 'subhead': [8], 'number': [8], 'whiski': [8], 'self-determin': [9], 'enter': [9], 'tribal': [9], 'organ': [9], '102nd': [10], '1921': [10], 'tulsa': [10], 'race': [10], 'clean': [11], 'vehicl': [11], 'fewer': [11], 'than': [11], 'wheel': [11], 'agrivolta': [12], '3746': [13], 'debt': [13], 'ceil': [13], 'engag': [14], 'countri': [14], 'california': [15, 3], 'account': [16, 12], '2006': [16, 12], 'recipi': [16, 12], 'collect': [16, 12], 'subaward': [16, 12], '50th': [17], 'indiana': [17], 'pacer': [17], '1972-1973': [17], 'basketbal': [17], 'championship': [17], 'third': [17], 'concurr': [18], 'ratif': [18], 'biolog': [18], 'divers': [18], 'fend': [19], 'off': [19], 'mercuri': [0], 'percentag': [1], 'expenditur': [1], 'furnish': [1], 'outreach': [2], 'among': [2], 'asian': [2], 'nativ': [2], 'hawaiian': [2], 'pacif': [2], 'island': [2], 'stigma': [2], 'against': [2], 'treatment': [2], 'judg': [3], 'court': [3], 'eastern': [3], 'imposit': [4], 'sanction': [4, 10], 'uyghur': [4], '2020': [4], 'abus': [4], 'xinjiang': [4], 'autonom': [4], 'genocid': [4], 'govern': [4], 'optim': [6], 'outcom': [6], 'midwiv': [6], 'multiag': [7], 'task': [7], 'attorney': [8], 'annual': [8], 'congress': [8], 'gang': [8], 'investig': [8], 'prosecut': [8], '804': [9], 'impos': [10], 'import': [10], 'petroleum': [10], 'iran': [10], 'weather': [11], '2017': [11], 'impact': [11], 'obstruct': [11], 'radar': [11], 'detect': [11], 'capabl': [11], 'vii': [13], 'incentiv': [15], 'local': [15], 'justic': [15], '1-year': [16], 'moratorium': [16], 'enrol': [16], '1985': [16], 'prime': [16], 'farmland': [16], 'avail': [17], 'confuciu': [17], 'outlet': [18], 'credenti': [18], 'news': [18], 'galleri': [18], 'compli': [18], 'admiss': [18], 'correspond': [18], 'repres': [18], 'complianc': [18], '1965': [19], 'anti-semit': [19], 'event': [19], 'campu': [19], 'particip': [19]}\n",
      "institute : institut [6, 7, 8, 12, 1, 0, 17, 19]\n",
      "DOCUMENT 6 To address maternity care shortages and promote optimal maternity outcomes by expanding educational opportunities for midwives, and for other purposes.\n",
      "DOCUMENT 7 To establish a multiagency Middle School Mental Health Task Force at the Department of Education and the Department of Health and Human Services.\n",
      "DOCUMENT 8 To amend title 28, United States Code, to require the Attorney General to submit an annual report to Congress on gang activity, reporting, investigation, and prosecution, and for other purposes.\n",
      "DOCUMENT 12 To amend the Federal Funding Accountability and Transparency Act of 2006 to require recipients of Federal awards to collect and report data relating to subawards granted to entities outside of the United States, and for other purposes.\n",
      "DOCUMENT 1 A bill to amend the Social Security Act to provide for an increased Federal medical assistance percentage for State expenditures on certain behavioral health services furnished under the Medicaid program, and for other purposes.\n",
      "DOCUMENT 0 A bill to establish a national mercury monitoring program, and for other purposes.\n",
      "DOCUMENT 17 To prohibit the availability of Federal funds to institutions of higher education that fund Confucius Institutes.\n",
      "DOCUMENT 19 To amend the Higher Education Act of 1965 to prohibit institutions of higher education that authorize Anti-Semitic events on campus from participating in the student loan and grant programs under title IV of such Act.\n",
      "True\n"
     ]
    }
   ],
   "source": [
    "# Get all bills by last updated date\n",
    "limit = 20\n",
    "pages = 10\n",
    "offset_ = 0\n",
    "offset = 0\n",
    "headers = {'Content-Type': 'application/json'}\n",
    "payload = {}\n",
    "\n",
    "terms = []\n",
    "tokenlist = []\n",
    "stopwords = [\"for\", \"of\", \"the\", \",\", \"or\", \"a\", \"to\", \"is\", \":\", \"and\", \";\", \")\", \"(\", \"that\", \"as\", \"by\", \"be\", \"an\", \".\", \"``\", \"''\", \"from\", \"are\", \"with\", \"which\"]\n",
    "#stopwords = [\"what\"]\n",
    "ps = PorterStemmer()\n",
    "d = {}\n",
    "\n",
    "for p in range(pages):\n",
    "    offset = offset_ * limit\n",
    "    url = \"https://api.congress.gov/v3/bill?api_key=Y1hRdQCbKpOFFQVY1sUsxyiAzZ3XQgejdC45GRP1&limit=\" + str(limit) + \"&offset=\" + str(offset)\n",
    "    offset_ += 1\n",
    "    response = requests.request(\"GET\", url, headers=headers, data=payload)\n",
    "    obj = json.loads(response.text)\n",
    "    json_formatted_str = json.dumps(obj, indent=4)\n",
    "    #print(json_formatted_str)\n",
    "    for i in range(len(obj[\"bills\"])):\n",
    "        title = obj[\"bills\"][i][\"title\"].lower()\n",
    "        latestActionDate = obj[\"bills\"][i][\"latestAction\"][\"actionDate\"]\n",
    "\n",
    "        tokenlist = word_tokenize(title)\n",
    "        for token in tokenlist:\n",
    "            token = ps.stem(token).lower()\n",
    "            if (token not in stopwords) and (len(token) > 2):\n",
    "                #print(tokenlist)\n",
    "                #print(token.lower())\n",
    "                d.setdefault(token, [])\n",
    "                if i not in d[token]:\n",
    "                    d[token].append(i)\n",
    "                    #print(token, d.get(token))\n",
    "                terms.append(token)\n",
    "\n",
    "#print(terms)\n",
    "#print(len(terms))\n",
    "#print(offset_)\n",
    "print(d)\n",
    "def search(query):\n",
    "    qVal = d[ps.stem(query)]\n",
    "    print(query +\" : \"+ ps.stem(query) +\" \"+str(qVal))\n",
    "    for q in range(len(qVal)):\n",
    "        print(\"DOCUMENT \"+ str(qVal[q]) +\" \"+ obj[\"bills\"][qVal[q]][\"title\"], end=\"\\n\")\n",
    "    return ps.stem(query) in terms\n",
    "\n",
    "r = search(\"institute\")\n",
    "print(r)"
   ],
   "metadata": {
    "collapsed": false,
    "ExecuteTime": {
     "end_time": "2023-06-07T01:15:20.736148Z",
     "start_time": "2023-06-07T01:15:14.066748Z"
    }
   }
  },
  {
   "cell_type": "code",
   "execution_count": null,
   "outputs": [],
   "source": [],
   "metadata": {
    "collapsed": false
   }
  }
 ],
 "metadata": {
  "kernelspec": {
   "display_name": "Python 3",
   "language": "python",
   "name": "python3"
  },
  "language_info": {
   "codemirror_mode": {
    "name": "ipython",
    "version": 2
   },
   "file_extension": ".py",
   "mimetype": "text/x-python",
   "name": "python",
   "nbconvert_exporter": "python",
   "pygments_lexer": "ipython2",
   "version": "2.7.6"
  }
 },
 "nbformat": 4,
 "nbformat_minor": 0
}
